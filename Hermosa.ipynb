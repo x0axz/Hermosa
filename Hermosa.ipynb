{
 "cells": [
  {
   "cell_type": "code",
   "execution_count": 1,
   "metadata": {},
   "outputs": [],
   "source": [
    "\"\"\"\n",
    "# Save Single Web Page\n",
    "\n",
    "from pywebcopy import save_webpage\n",
    "\n",
    "save_webpage(\n",
    "      url=\"https://www.australianplantsonline.com.au/tubestockplants.html\",\n",
    "      project_folder=\"D:/PlantHub/\",\n",
    "      project_name=\"australianplantsonline\",\n",
    "      bypass_robots=True,\n",
    "      debug=False,\n",
    "      open_in_browser=False,\n",
    "      delay=None,\n",
    "      threaded=False,\n",
    ")\n",
    "\"\"\"\n",
    "\n",
    "import requests\n",
    "from bs4 import BeautifulSoup\n",
    "\n",
    "'''\n",
    "# Scrap from Website\n",
    "\n",
    "# Configure user agent\n",
    "header = {'User-Agent': 'Mozilla/5.0 (Windows; U; Windows NT 5.1; en-US; rv:1.9.0.7) Gecko/2009021910 Firefox/3.0.7'}\n",
    "\n",
    "# Configure URL\n",
    "url = \"https://www.australianplantsonline.com.au/tubestockplants.html\"\n",
    "\n",
    "# Create initial request and save response object\n",
    "request = requests.get(url, headers=header)\n",
    "\n",
    "# Parse\n",
    "parse = BeautifulSoup(markup=request.text, features='html.parser')\n",
    "\n",
    "# Print\n",
    "# print(parse.prettify())\n",
    "'''\n",
    "\n",
    "# Scrap from Local Copy of Web Page\n",
    "\n",
    "# Open local copy of web page and parse it\n",
    "read = open(file='Web Pages/australianplantsonline.html', mode='r')\n",
    "parse = BeautifulSoup(markup=read, features='html.parser')\n",
    "\n",
    "# Get the data on basis of attributes \n",
    "name = parse.findAll(name='a', attrs={'class' : 'product-item-link'})\n",
    "price = parse.findAll(name='span', attrs={'class' : 'price'})\n",
    "description = parse.find_all(name='div', attrs={'class' : 'short'})\n",
    "image = parse.find_all(name='img', attrs={'class' : 'product-image-photo'})\n",
    "\n",
    "'''\n",
    "# Print\n",
    "for nameitem, priceitem, descriptionitem, imageitem in zip(name, price, description, image):\n",
    "    print(nameitem.string.strip() + \" => \" + priceitem.string.strip() + \" => \" + descriptionitem.string.strip() + \" => \" + imageitem['src'])\n",
    "'''\n",
    "\n",
    "# Write to CSV file\n",
    "file = open('Data/australianplantsonline.csv', 'a')\n",
    "for nameitem, priceitem, descriptionitem, imageitem in zip(name, price, description, image):\n",
    "    file.write('\"{}\",\"{}\",\"{}\",\"{}\",\\n'.format(nameitem.string.strip(), priceitem.string.strip(), descriptionitem.string.strip(), imageitem['src']))\n",
    "file.close()"
   ]
  }
 ],
 "metadata": {
  "file_extension": ".py",
  "kernelspec": {
   "display_name": "Python 3.9.6 64-bit",
   "language": "python",
   "name": "python3"
  },
  "language_info": {
   "codemirror_mode": {
    "name": "ipython",
    "version": 3
   },
   "file_extension": ".py",
   "mimetype": "text/x-python",
   "name": "python",
   "nbconvert_exporter": "python",
   "pygments_lexer": "ipython3",
   "version": "3.9.6"
  },
  "mimetype": "text/x-python",
  "name": "python",
  "npconvert_exporter": "python",
  "pygments_lexer": "ipython3",
  "version": 3,
  "vscode": {
   "interpreter": {
    "hash": "11938c6bc6919ae2720b4d5011047913343b08a43b18698fd82dedb0d4417594"
   }
  }
 },
 "nbformat": 4,
 "nbformat_minor": 4
}
